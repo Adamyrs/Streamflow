{
 "cells": [
  {
   "cell_type": "markdown",
   "id": "198bd7cd-66b8-498b-9e6b-f7020a521efa",
   "metadata": {},
   "source": [
    "# Streamflow Project\n"
   ]
  },
  {
   "cell_type": "markdown",
   "id": "664d2f24-928d-43d9-b021-783a6cfa22ac",
   "metadata": {},
   "source": [
    "## Imports"
   ]
  },
  {
   "cell_type": "code",
   "execution_count": 1,
   "id": "2ebdc8b4-cee3-4663-b6aa-a461b189e157",
   "metadata": {},
   "outputs": [],
   "source": [
    "import numpy as np\n",
    "import pandas as pd\n",
    "import matplotlib.pyplot as plt\n",
    "from datetime import datetime\n",
    "from sklearn import linear_model\n",
    "from sklearn.model_selection import train_test_split\n",
    "import matplotlib\n",
    "%matplotlib inline\n",
    "import seaborn as sns\n",
    "from sklearn.metrics import accuracy_score\n",
    "from sklearn.linear_model import LogisticRegression\n",
    "from sklearn.ensemble import RandomForestClassifier\n",
    "from sklearn.model_selection import cross_val_score\n",
    "from datascience import Table\n",
    "from sklearn.tree import DecisionTreeRegressor\n",
    "import math\n",
    "from sklearn.neighbors import KNeighborsClassifier\n",
    "df = pd.read_csv('ColoradoRiverData.csv')"
   ]
  },
  {
   "cell_type": "markdown",
   "id": "30c8f536-5731-4342-815a-b39674d8ea0d",
   "metadata": {},
   "source": [
    "## Data cleaning"
   ]
  },
  {
   "cell_type": "code",
   "execution_count": 2,
   "id": "c8f6c0cd-e70d-472f-a533-999839bade8e",
   "metadata": {},
   "outputs": [
    {
     "data": {
      "text/html": [
       "<div>\n",
       "<style scoped>\n",
       "    .dataframe tbody tr th:only-of-type {\n",
       "        vertical-align: middle;\n",
       "    }\n",
       "\n",
       "    .dataframe tbody tr th {\n",
       "        vertical-align: top;\n",
       "    }\n",
       "\n",
       "    .dataframe thead th {\n",
       "        text-align: right;\n",
       "    }\n",
       "</style>\n",
       "<table border=\"1\" class=\"dataframe\">\n",
       "  <thead>\n",
       "    <tr style=\"text-align: right;\">\n",
       "      <th></th>\n",
       "      <th>Date</th>\n",
       "      <th>ppt (inches)</th>\n",
       "      <th>tmin (degrees F)</th>\n",
       "      <th>tmean (degrees F)</th>\n",
       "      <th>tmax (degrees F)</th>\n",
       "      <th>Flowrate (cfs)</th>\n",
       "      <th>datetime</th>\n",
       "      <th>year</th>\n",
       "    </tr>\n",
       "  </thead>\n",
       "  <tbody>\n",
       "    <tr>\n",
       "      <th>0</th>\n",
       "      <td>1988-03</td>\n",
       "      <td>0.63</td>\n",
       "      <td>37.7</td>\n",
       "      <td>54.6</td>\n",
       "      <td>71.5</td>\n",
       "      <td>2.680</td>\n",
       "      <td>1988-03-01</td>\n",
       "      <td>1988</td>\n",
       "    </tr>\n",
       "    <tr>\n",
       "      <th>1</th>\n",
       "      <td>1988-04</td>\n",
       "      <td>0.69</td>\n",
       "      <td>45.5</td>\n",
       "      <td>62.2</td>\n",
       "      <td>78.8</td>\n",
       "      <td>2.330</td>\n",
       "      <td>1988-04-01</td>\n",
       "      <td>1988</td>\n",
       "    </tr>\n",
       "    <tr>\n",
       "      <th>2</th>\n",
       "      <td>1988-05</td>\n",
       "      <td>2.50</td>\n",
       "      <td>57.2</td>\n",
       "      <td>70.4</td>\n",
       "      <td>83.6</td>\n",
       "      <td>4.560</td>\n",
       "      <td>1988-05-01</td>\n",
       "      <td>1988</td>\n",
       "    </tr>\n",
       "    <tr>\n",
       "      <th>3</th>\n",
       "      <td>1988-06</td>\n",
       "      <td>2.28</td>\n",
       "      <td>65.9</td>\n",
       "      <td>78.7</td>\n",
       "      <td>91.5</td>\n",
       "      <td>18.200</td>\n",
       "      <td>1988-06-01</td>\n",
       "      <td>1988</td>\n",
       "    </tr>\n",
       "    <tr>\n",
       "      <th>4</th>\n",
       "      <td>1988-07</td>\n",
       "      <td>3.62</td>\n",
       "      <td>68.9</td>\n",
       "      <td>79.9</td>\n",
       "      <td>90.8</td>\n",
       "      <td>76.100</td>\n",
       "      <td>1988-07-01</td>\n",
       "      <td>1988</td>\n",
       "    </tr>\n",
       "    <tr>\n",
       "      <th>...</th>\n",
       "      <td>...</td>\n",
       "      <td>...</td>\n",
       "      <td>...</td>\n",
       "      <td>...</td>\n",
       "      <td>...</td>\n",
       "      <td>...</td>\n",
       "      <td>...</td>\n",
       "      <td>...</td>\n",
       "    </tr>\n",
       "    <tr>\n",
       "      <th>394</th>\n",
       "      <td>2021-01</td>\n",
       "      <td>0.97</td>\n",
       "      <td>32.1</td>\n",
       "      <td>42.4</td>\n",
       "      <td>52.7</td>\n",
       "      <td>0.004</td>\n",
       "      <td>2021-01-01</td>\n",
       "      <td>2021</td>\n",
       "    </tr>\n",
       "    <tr>\n",
       "      <th>395</th>\n",
       "      <td>2021-02</td>\n",
       "      <td>0.07</td>\n",
       "      <td>26.6</td>\n",
       "      <td>38.5</td>\n",
       "      <td>50.5</td>\n",
       "      <td>0.000</td>\n",
       "      <td>2021-02-01</td>\n",
       "      <td>2021</td>\n",
       "    </tr>\n",
       "    <tr>\n",
       "      <th>396</th>\n",
       "      <td>2021-03</td>\n",
       "      <td>0.56</td>\n",
       "      <td>43.4</td>\n",
       "      <td>57.3</td>\n",
       "      <td>71.2</td>\n",
       "      <td>1.160</td>\n",
       "      <td>2021-03-01</td>\n",
       "      <td>2021</td>\n",
       "    </tr>\n",
       "    <tr>\n",
       "      <th>397</th>\n",
       "      <td>2021-04</td>\n",
       "      <td>1.02</td>\n",
       "      <td>47.7</td>\n",
       "      <td>60.1</td>\n",
       "      <td>72.4</td>\n",
       "      <td>0.410</td>\n",
       "      <td>2021-04-01</td>\n",
       "      <td>2021</td>\n",
       "    </tr>\n",
       "    <tr>\n",
       "      <th>398</th>\n",
       "      <td>2021-05</td>\n",
       "      <td>7.27</td>\n",
       "      <td>58.2</td>\n",
       "      <td>69.6</td>\n",
       "      <td>81.0</td>\n",
       "      <td>54.000</td>\n",
       "      <td>2021-05-01</td>\n",
       "      <td>2021</td>\n",
       "    </tr>\n",
       "  </tbody>\n",
       "</table>\n",
       "<p>399 rows × 8 columns</p>\n",
       "</div>"
      ],
      "text/plain": [
       "        Date  ppt (inches)  tmin (degrees F)  tmean (degrees F)  \\\n",
       "0    1988-03          0.63              37.7               54.6   \n",
       "1    1988-04          0.69              45.5               62.2   \n",
       "2    1988-05          2.50              57.2               70.4   \n",
       "3    1988-06          2.28              65.9               78.7   \n",
       "4    1988-07          3.62              68.9               79.9   \n",
       "..       ...           ...               ...                ...   \n",
       "394  2021-01          0.97              32.1               42.4   \n",
       "395  2021-02          0.07              26.6               38.5   \n",
       "396  2021-03          0.56              43.4               57.3   \n",
       "397  2021-04          1.02              47.7               60.1   \n",
       "398  2021-05          7.27              58.2               69.6   \n",
       "\n",
       "     tmax (degrees F)  Flowrate (cfs)   datetime  year  \n",
       "0                71.5           2.680 1988-03-01  1988  \n",
       "1                78.8           2.330 1988-04-01  1988  \n",
       "2                83.6           4.560 1988-05-01  1988  \n",
       "3                91.5          18.200 1988-06-01  1988  \n",
       "4                90.8          76.100 1988-07-01  1988  \n",
       "..                ...             ...        ...   ...  \n",
       "394              52.7           0.004 2021-01-01  2021  \n",
       "395              50.5           0.000 2021-02-01  2021  \n",
       "396              71.2           1.160 2021-03-01  2021  \n",
       "397              72.4           0.410 2021-04-01  2021  \n",
       "398              81.0          54.000 2021-05-01  2021  \n",
       "\n",
       "[399 rows x 8 columns]"
      ]
     },
     "execution_count": 2,
     "metadata": {},
     "output_type": "execute_result"
    }
   ],
   "source": [
    "df['datetime'] = df['Date'].apply(lambda x: datetime.strptime(str(x),\"%Y-%m\"))\n",
    "df['year'] = df['datetime'].apply(lambda x: int(x.year))\n",
    "df"
   ]
  },
  {
   "cell_type": "code",
   "execution_count": 3,
   "id": "15245593-861f-4e4b-8395-9736336350b5",
   "metadata": {},
   "outputs": [],
   "source": [
    "df['Flowstate'] = (df['Flowrate (cfs)']>0).astype('uint8')"
   ]
  },
  {
   "cell_type": "code",
   "execution_count": 4,
   "id": "74ae803b-76a4-4662-af8a-bc8569eb0131",
   "metadata": {},
   "outputs": [],
   "source": [
    "df.fillna(0, inplace=True)"
   ]
  },
  {
   "cell_type": "markdown",
   "id": "d7d85548-dc94-4b1d-99bd-b5dfb628f168",
   "metadata": {},
   "source": [
    "## Exploratory Data Analysis"
   ]
  },
  {
   "cell_type": "code",
   "execution_count": 5,
   "id": "e97a8d24-fe9b-4dc2-8882-85771d9a0810",
   "metadata": {},
   "outputs": [
    {
     "name": "stdout",
     "output_type": "stream",
     "text": [
      "Max flowrate for 90's: 263.2\n",
      "Number of no flow days in the 90's: 43\n"
     ]
    }
   ],
   "source": [
    "df90 = df.loc[(df[\"year\"]>=1990)&(df[\"year\"]<2000)]\n",
    "print(\"Max flowrate for 90's:\", max(df90[\"Flowrate (cfs)\"]))\n",
    "print(\"Number of no flow days in the 90's:\",(df90[\"Flowrate (cfs)\"] == 0).sum().sum())"
   ]
  },
  {
   "cell_type": "code",
   "execution_count": 6,
   "id": "d3083a89-7bc1-42ef-a36b-6d6305bd308f",
   "metadata": {},
   "outputs": [
    {
     "name": "stdout",
     "output_type": "stream",
     "text": [
      "Max flowrate for 2000's: 179.3\n",
      "Number of no flow days in the 2000's: 23\n"
     ]
    }
   ],
   "source": [
    "df00 = df.loc[(df[\"year\"]>=2000)&(df[\"year\"]<2010)]\n",
    "print(\"Max flowrate for 2000's:\", max(df00[\"Flowrate (cfs)\"]))\n",
    "print(\"Number of no flow days in the 2000's:\",(df00[\"Flowrate (cfs)\"] == 0).sum().sum())"
   ]
  },
  {
   "cell_type": "code",
   "execution_count": 7,
   "id": "28418d8b-8c54-4bd5-b6bd-d31ed045f862",
   "metadata": {},
   "outputs": [
    {
     "name": "stdout",
     "output_type": "stream",
     "text": [
      "Max flowrate for 2010's: 709.9\n",
      "Number of no flow days in the 2010's: 52\n"
     ]
    }
   ],
   "source": [
    "df10 = df.loc[(df[\"year\"]>=2010)&(df[\"year\"]<2020)]\n",
    "print(\"Max flowrate for 2010's:\", max(df10[\"Flowrate (cfs)\"]))\n",
    "print(\"Number of no flow days in the 2010's:\",(df10[\"Flowrate (cfs)\"] == 0).sum().sum())"
   ]
  },
  {
   "cell_type": "code",
   "execution_count": 8,
   "id": "a314db66-4012-441a-aa44-fd8f8530fcc8",
   "metadata": {},
   "outputs": [
    {
     "name": "stderr",
     "output_type": "stream",
     "text": [
      "<ipython-input-8-8ade6a8f31b1>:4: UserWarning: Matplotlib is currently using agg, which is a non-GUI backend, so cannot show the figure.\n",
      "  plt.show()\n",
      "<ipython-input-8-8ade6a8f31b1>:8: UserWarning: Matplotlib is currently using agg, which is a non-GUI backend, so cannot show the figure.\n",
      "  plt.show()\n"
     ]
    }
   ],
   "source": [
    "plt.scatter(df['ppt (inches)'],df['Flowrate (cfs)'])\n",
    "plt.xlabel(\"Precipitation by inches\")\n",
    "plt.ylabel(\"Flowrate\")\n",
    "plt.show()\n",
    "plt.scatter(df['tmean (degrees F)'],df['Flowrate (cfs)'])\n",
    "plt.xlabel(\"Temperature (F)\")\n",
    "plt.ylabel(\"Flowrate\")\n",
    "plt.show()"
   ]
  },
  {
   "cell_type": "markdown",
   "id": "d90a125c-dc99-4341-b9c4-789efe35067c",
   "metadata": {},
   "source": [
    "## Flowrate prediction model 1"
   ]
  },
  {
   "cell_type": "code",
   "execution_count": 9,
   "id": "e6846e40-3039-4d68-aad8-b61886b5d97e",
   "metadata": {},
   "outputs": [],
   "source": [
    "df['LastMonthFlowrate'] = df['Flowrate (cfs)'].shift(1).bfill()"
   ]
  },
  {
   "cell_type": "code",
   "execution_count": 10,
   "id": "9b1452d3-4a97-4a87-9bb8-be5376441d17",
   "metadata": {},
   "outputs": [
    {
     "name": "stdout",
     "output_type": "stream",
     "text": [
      "Date object\n",
      "ppt (inches) float64\n",
      "tmin (degrees F) float64\n",
      "tmean (degrees F) float64\n",
      "tmax (degrees F) float64\n",
      "Flowrate (cfs) float64\n",
      "datetime datetime64[ns]\n",
      "year int64\n",
      "Flowstate uint8\n",
      "LastMonthFlowrate float64\n",
      "['ppt (inches)', 'tmin (degrees F)', 'tmean (degrees F)', 'tmax (degrees F)', 'Flowrate (cfs)', 'year', 'Flowstate', 'LastMonthFlowrate']\n"
     ]
    }
   ],
   "source": [
    "columns = []\n",
    "for i,j in zip(df.columns,df.dtypes):\n",
    "    print(i,j)\n",
    "    if \"float\" in str(j) or \"int\" in str(j):\n",
    "            columns.append(i)\n",
    "print(columns)"
   ]
  },
  {
   "cell_type": "code",
   "execution_count": 11,
   "id": "a0e994b5-fed2-4c69-9ebd-d75efc3ddeb1",
   "metadata": {},
   "outputs": [
    {
     "name": "stderr",
     "output_type": "stream",
     "text": [
      "/Users/adammyers/opt/anaconda3/lib/python3.8/site-packages/pandas/core/frame.py:4308: SettingWithCopyWarning: \n",
      "A value is trying to be set on a copy of a slice from a DataFrame\n",
      "\n",
      "See the caveats in the documentation: https://pandas.pydata.org/pandas-docs/stable/user_guide/indexing.html#returning-a-view-versus-a-copy\n",
      "  return super().drop(\n"
     ]
    }
   ],
   "source": [
    "x = df[columns]\n",
    "y = df['Flowrate (cfs)']\n",
    "x.drop(['Flowrate (cfs)','Flowstate','year'], axis='columns', inplace=True)"
   ]
  },
  {
   "cell_type": "code",
   "execution_count": 12,
   "id": "c0bd71b9-5af7-441e-bd34-3de89306a2dd",
   "metadata": {},
   "outputs": [
    {
     "name": "stdout",
     "output_type": "stream",
     "text": [
      "299\n",
      "299\n",
      "100\n",
      "100\n"
     ]
    }
   ],
   "source": [
    "x_train, x_test, y_train, y_test = train_test_split(x,y,train_size=0.75,random_state = 0)\n",
    "print(len(x_train))\n",
    "print(len(y_train))\n",
    "print(len(x_test))\n",
    "print(len(y_test))"
   ]
  },
  {
   "cell_type": "code",
   "execution_count": 13,
   "id": "49ce6e50-8ee8-4d3e-b8b5-7ef02078e6ae",
   "metadata": {},
   "outputs": [
    {
     "name": "stdout",
     "output_type": "stream",
     "text": [
      "Accuracy: 0.6069662758333196\n"
     ]
    }
   ],
   "source": [
    "model1 = DecisionTreeRegressor( max_depth=5, min_samples_leaf=1,)\n",
    "model1.fit(x_train,y_train)\n",
    "predictions = model1.predict(x_test)\n",
    "print(\"Accuracy:\" , model1.score(x_test, y_test))"
   ]
  },
  {
   "cell_type": "code",
   "execution_count": 14,
   "id": "f2c5fcef-88de-47f3-88e3-94d79779607b",
   "metadata": {},
   "outputs": [
    {
     "name": "stdin",
     "output_type": "stream",
     "text": [
      "Enter ppt, tmin, tmean, tmax, last month's flowrate - seperated by commas:  3,4,56,9,65\n"
     ]
    },
    {
     "name": "stdout",
     "output_type": "stream",
     "text": [
      "Estimated Flowrate: [17.30346939]\n"
     ]
    }
   ],
   "source": [
    "i = input(\"Enter ppt, tmin, tmean, tmax, last month's flowrate - seperated by commas: \").split(\",\")\n",
    "r = model1.predict([(i)])\n",
    "print(\"Estimated Flowrate:\", r)"
   ]
  },
  {
   "cell_type": "markdown",
   "id": "ded4c590-9050-4f01-8b7a-f3eb2e18d37f",
   "metadata": {},
   "source": [
    "### Testing flowrate model"
   ]
  },
  {
   "cell_type": "code",
   "execution_count": 15,
   "id": "944ff0ec-341f-4507-878f-83b63516658b",
   "metadata": {},
   "outputs": [
    {
     "data": {
      "text/html": [
       "<div>\n",
       "<style scoped>\n",
       "    .dataframe tbody tr th:only-of-type {\n",
       "        vertical-align: middle;\n",
       "    }\n",
       "\n",
       "    .dataframe tbody tr th {\n",
       "        vertical-align: top;\n",
       "    }\n",
       "\n",
       "    .dataframe thead th {\n",
       "        text-align: right;\n",
       "    }\n",
       "</style>\n",
       "<table border=\"1\" class=\"dataframe\">\n",
       "  <thead>\n",
       "    <tr style=\"text-align: right;\">\n",
       "      <th></th>\n",
       "      <th>ppt</th>\n",
       "      <th>tmin (degrees F)</th>\n",
       "      <th>tmean (degrees F)</th>\n",
       "      <th>tmax (degrees F)</th>\n",
       "      <th>LastMonthFlowrate</th>\n",
       "    </tr>\n",
       "  </thead>\n",
       "  <tbody>\n",
       "    <tr>\n",
       "      <th>0</th>\n",
       "      <td>0.0</td>\n",
       "      <td>85</td>\n",
       "      <td>99</td>\n",
       "      <td>113</td>\n",
       "      <td>0.0</td>\n",
       "    </tr>\n",
       "    <tr>\n",
       "      <th>1</th>\n",
       "      <td>4.5</td>\n",
       "      <td>75</td>\n",
       "      <td>85</td>\n",
       "      <td>95</td>\n",
       "      <td>74.5</td>\n",
       "    </tr>\n",
       "    <tr>\n",
       "      <th>2</th>\n",
       "      <td>2.2</td>\n",
       "      <td>0</td>\n",
       "      <td>10</td>\n",
       "      <td>20</td>\n",
       "      <td>55.0</td>\n",
       "    </tr>\n",
       "    <tr>\n",
       "      <th>3</th>\n",
       "      <td>1.0</td>\n",
       "      <td>40</td>\n",
       "      <td>60</td>\n",
       "      <td>80</td>\n",
       "      <td>36.3</td>\n",
       "    </tr>\n",
       "    <tr>\n",
       "      <th>4</th>\n",
       "      <td>0.0</td>\n",
       "      <td>40</td>\n",
       "      <td>60</td>\n",
       "      <td>80</td>\n",
       "      <td>12.0</td>\n",
       "    </tr>\n",
       "  </tbody>\n",
       "</table>\n",
       "</div>"
      ],
      "text/plain": [
       "   ppt  tmin (degrees F)  tmean (degrees F)  tmax (degrees F)  \\\n",
       "0  0.0                85                 99               113   \n",
       "1  4.5                75                 85                95   \n",
       "2  2.2                 0                 10                20   \n",
       "3  1.0                40                 60                80   \n",
       "4  0.0                40                 60                80   \n",
       "\n",
       "   LastMonthFlowrate  \n",
       "0                0.0  \n",
       "1               74.5  \n",
       "2               55.0  \n",
       "3               36.3  \n",
       "4               12.0  "
      ]
     },
     "execution_count": 15,
     "metadata": {},
     "output_type": "execute_result"
    }
   ],
   "source": [
    "testnumbers = pd.read_csv('Testnumbers.csv')\n",
    "testnumbers"
   ]
  },
  {
   "cell_type": "code",
   "execution_count": 16,
   "id": "b4e42b29-bf74-4244-a4ab-9965f51e19c5",
   "metadata": {},
   "outputs": [
    {
     "name": "stdout",
     "output_type": "stream",
     "text": [
      "0 [1.08282723]\n",
      "1 [5.967]\n",
      "2 [17.30346939]\n",
      "3 [5.35552]\n",
      "4 [1.08282723]\n"
     ]
    }
   ],
   "source": [
    "for i in range(0,5):\n",
    "    prediction = model1.predict([testnumbers.iloc[i]])\n",
    "    print(i,prediction)"
   ]
  },
  {
   "cell_type": "markdown",
   "id": "9893dec9-c860-4b53-be31-65e55d4ccdd9",
   "metadata": {},
   "source": [
    "### Flowrate prediction model 2"
   ]
  },
  {
   "cell_type": "code",
   "execution_count": 17,
   "id": "7a50b4b4-9c52-4ee1-9fc5-b8de4436f40d",
   "metadata": {},
   "outputs": [
    {
     "name": "stdout",
     "output_type": "stream",
     "text": [
      "0.39266971804642825\n"
     ]
    }
   ],
   "source": [
    "model2 = linear_model.LinearRegression( fit_intercept=True)\n",
    "model2.fit(x_train, y_train)\n",
    "print(model2.score(x_test,y_test))"
   ]
  },
  {
   "cell_type": "markdown",
   "id": "3f4c3b9a-ed56-4519-9202-1ce11613bba5",
   "metadata": {},
   "source": [
    "## Flowstate prediction model 1"
   ]
  },
  {
   "cell_type": "code",
   "execution_count": 18,
   "id": "413c3a48-f824-4a46-9b4a-0a6f7ab2178d",
   "metadata": {},
   "outputs": [
    {
     "name": "stderr",
     "output_type": "stream",
     "text": [
      "/Users/adammyers/opt/anaconda3/lib/python3.8/site-packages/pandas/core/frame.py:4308: SettingWithCopyWarning: \n",
      "A value is trying to be set on a copy of a slice from a DataFrame\n",
      "\n",
      "See the caveats in the documentation: https://pandas.pydata.org/pandas-docs/stable/user_guide/indexing.html#returning-a-view-versus-a-copy\n",
      "  return super().drop(\n"
     ]
    }
   ],
   "source": [
    "x = df[columns]\n",
    "y = df['Flowstate']\n",
    "x.drop(['Flowrate (cfs)', 'Flowstate','year','LastMonthFlowrate'], axis='columns', inplace=True)"
   ]
  },
  {
   "cell_type": "code",
   "execution_count": 19,
   "id": "df736e74-f882-4d42-b0af-c57839f1d03b",
   "metadata": {},
   "outputs": [],
   "source": [
    "x_train, x_test, y_train, y_test = train_test_split(x,y,train_size=0.75,random_state=0)"
   ]
  },
  {
   "cell_type": "code",
   "execution_count": 20,
   "id": "9d20c6a3-7a42-499c-9940-dc1260bdac4b",
   "metadata": {},
   "outputs": [
    {
     "name": "stdout",
     "output_type": "stream",
     "text": [
      "Accuracy: 0.79\n"
     ]
    }
   ],
   "source": [
    "model3 = LogisticRegression()\n",
    "model3.fit(x_train,y_train)\n",
    "predict = model3.predict(x_test)\n",
    "print(\"Accuracy:\",model3.score(x_test, y_test))"
   ]
  },
  {
   "cell_type": "code",
   "execution_count": 21,
   "id": "277e5551-142e-4883-aac8-0a758a1819ad",
   "metadata": {},
   "outputs": [
    {
     "name": "stdin",
     "output_type": "stream",
     "text": [
      "Enter ppt, tmin, tmean, tmax, - seperated by commas:  3,3,4,5\n"
     ]
    },
    {
     "name": "stdout",
     "output_type": "stream",
     "text": [
      "Estimated Flowstate: [1]\n"
     ]
    },
    {
     "name": "stderr",
     "output_type": "stream",
     "text": [
      "/Users/adammyers/opt/anaconda3/lib/python3.8/site-packages/sklearn/utils/validation.py:63: FutureWarning: Arrays of bytes/strings is being converted to decimal numbers if dtype='numeric'. This behavior is deprecated in 0.24 and will be removed in 1.1 (renaming of 0.26). Please convert your data to numeric values explicitly instead.\n",
      "  return f(*args, **kwargs)\n"
     ]
    }
   ],
   "source": [
    "i = input(\"Enter ppt, tmin, tmean, tmax, - seperated by commas: \").split(\",\")\n",
    "r = model3.predict([(i)])\n",
    "print(\"Estimated Flowstate:\", r)"
   ]
  },
  {
   "cell_type": "markdown",
   "id": "b79042bc-2382-4b29-bae0-b247738152b8",
   "metadata": {},
   "source": [
    "### Testing flowstate model"
   ]
  },
  {
   "cell_type": "code",
   "execution_count": 22,
   "id": "8afed1b2-ec56-4f22-9302-9fdc15e5c6c0",
   "metadata": {},
   "outputs": [
    {
     "name": "stdout",
     "output_type": "stream",
     "text": [
      "0 [0]\n",
      "1 [1]\n",
      "2 [1]\n",
      "3 [0]\n",
      "4 [0]\n"
     ]
    }
   ],
   "source": [
    "testnumbers.drop('LastMonthFlowrate', axis='columns', inplace=True)\n",
    "for i in range(0,5):\n",
    "    prediction = model3.predict([testnumbers.iloc[i]])\n",
    "    print(i,prediction)"
   ]
  },
  {
   "cell_type": "markdown",
   "id": "6c8e9bf9-ad36-47b5-96b0-39ee9895b135",
   "metadata": {},
   "source": [
    "### Flowstate prediction model's 2 & 3"
   ]
  },
  {
   "cell_type": "code",
   "execution_count": 23,
   "id": "131ed37c-f19c-40bf-8647-c0c3cc0cfb86",
   "metadata": {},
   "outputs": [
    {
     "name": "stdout",
     "output_type": "stream",
     "text": [
      "0.77\n"
     ]
    }
   ],
   "source": [
    "model4 = RandomForestClassifier(n_estimators=100)\n",
    "model4.fit(x_train, y_train)\n",
    "predictions = model4.predict(x_test)\n",
    "print(model4.score(x_test, y_test))"
   ]
  },
  {
   "cell_type": "code",
   "execution_count": 25,
   "id": "2e184b62-6b1e-4938-818d-42e78f1dad9d",
   "metadata": {},
   "outputs": [
    {
     "name": "stdout",
     "output_type": "stream",
     "text": [
      "0.73\n"
     ]
    }
   ],
   "source": [
    "model5 = KNeighborsClassifier(n_neighbors=10)\n",
    "model5.fit(x_train, y_train)\n",
    "predictions = model5.predict(x_test)\n",
    "print(model5.score(x_test,y_test))"
   ]
  },
  {
   "cell_type": "code",
   "execution_count": null,
   "id": "6c1cc93f-132e-4ecb-8795-e850a07db138",
   "metadata": {},
   "outputs": [],
   "source": []
  }
 ],
 "metadata": {
  "kernelspec": {
   "display_name": "Python 3",
   "language": "python",
   "name": "python3"
  },
  "language_info": {
   "codemirror_mode": {
    "name": "ipython",
    "version": 3
   },
   "file_extension": ".py",
   "mimetype": "text/x-python",
   "name": "python",
   "nbconvert_exporter": "python",
   "pygments_lexer": "ipython3",
   "version": "3.8.8"
  }
 },
 "nbformat": 4,
 "nbformat_minor": 5
}
